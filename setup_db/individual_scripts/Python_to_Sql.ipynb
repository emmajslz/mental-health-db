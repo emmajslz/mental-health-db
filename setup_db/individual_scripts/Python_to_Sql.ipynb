{
 "cells": [
  {
   "cell_type": "code",
   "execution_count": null,
   "metadata": {},
   "outputs": [],
   "source": [
    "import requests\n",
    "import pandas as pd\n",
    "import snowflake.connector\n",
    "!pip install snowflake-connector-python"
   ]
  },
  {
   "cell_type": "markdown",
   "metadata": {},
   "source": [
    "Grab the API with all of the continent data available."
   ]
  },
  {
   "cell_type": "code",
   "execution_count": 16,
   "metadata": {},
   "outputs": [],
   "source": [
    "response = requests.get('https://restcountries.com/v3.1/all')\n",
    "countries_data = response.json()"
   ]
  },
  {
   "cell_type": "markdown",
   "metadata": {},
   "source": [
    "Create a connection with snowflake and indicate which warehouse should be used."
   ]
  },
  {
   "cell_type": "code",
   "execution_count": null,
   "metadata": {},
   "outputs": [],
   "source": [
    "conn = snowflake.connector.connect(\n",
    "    user='hedgehog',\n",
    "    password='______', #redacted my password\n",
    "    account='QLB09115',\n",
    "    warehouse='ANIMAL_TASK_WH',\n",
    "    database='MENTAL_HEALTH_HUB',\n",
    "    schema='DATASETS'\n",
    ")\n",
    "cursor = conn.cursor()\n",
    "cursor.execute(\"USE WAREHOUSE ANIMAL_TASK_WH\")"
   ]
  },
  {
   "cell_type": "markdown",
   "metadata": {},
   "source": [
    "Grab the query and write the result to a dataframe. Make a copy in case there are any errors in the manipulation process. "
   ]
  },
  {
   "cell_type": "code",
   "execution_count": null,
   "metadata": {},
   "outputs": [],
   "source": [
    "query = \"\"\"\n",
    "SELECT DISTINCT dp.code AS ID,\n",
    "                dp.entity AS COUNTRY\n",
    "FROM MENTAL_HEALTH_HUB.DATASETS.BY_DISORDER_PREVALENCE dp \n",
    "FULL JOIN INDICATOR_MH_POLICY e ON dp.entity = e.entity \n",
    "WHERE dp.code IS NOT NULL  \n",
    "AND dp.entity NOT LIKE '%IHME GBD%'\n",
    "\"\"\"\n",
    "df = pd.read_sql(query, conn)\n",
    "conn.close()\n",
    "print(df)\n",
    "dfa = df.copy()"
   ]
  },
  {
   "cell_type": "markdown",
   "metadata": {},
   "source": [
    "Make a map for each continent. "
   ]
  },
  {
   "cell_type": "code",
   "execution_count": 33,
   "metadata": {},
   "outputs": [],
   "source": [
    "continent_map = {}\n",
    "for country in countries_data:\n",
    "    country_name = country.get('name', {}).get('common', '')\n",
    "    country_code = country.get('cca3', '')  # or 'cca3' for 3-letter codes\n",
    "    continent = country.get('region', '')  # or 'subregion' for more specific regions\n",
    "    if country_code and continent:\n",
    "        continent_map[country_code] = continent"
   ]
  },
  {
   "cell_type": "markdown",
   "metadata": {},
   "source": [
    "Map the continent on to the country data frame and write the amended data frame to a csv file. "
   ]
  },
  {
   "cell_type": "code",
   "execution_count": 36,
   "metadata": {},
   "outputs": [],
   "source": [
    "dfa['CONTINENT'] = dfa['ID'].map(continent_map)\n",
    "dfa.to_csv('countries_continents.csv', index=False)"
   ]
  }
 ],
 "metadata": {
  "kernelspec": {
   "display_name": "base",
   "language": "python",
   "name": "python3"
  },
  "language_info": {
   "codemirror_mode": {
    "name": "ipython",
    "version": 3
   },
   "file_extension": ".py",
   "mimetype": "text/x-python",
   "name": "python",
   "nbconvert_exporter": "python",
   "pygments_lexer": "ipython3",
   "version": "3.12.4"
  }
 },
 "nbformat": 4,
 "nbformat_minor": 2
}
